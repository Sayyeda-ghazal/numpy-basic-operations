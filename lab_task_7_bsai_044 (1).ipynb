{
  "nbformat": 4,
  "nbformat_minor": 0,
  "metadata": {
    "colab": {
      "provenance": []
    },
    "kernelspec": {
      "name": "python3",
      "display_name": "Python 3"
    },
    "language_info": {
      "name": "python"
    }
  },
  "cells": [
    {
      "cell_type": "markdown",
      "source": [
        "**Numpy Basic Operations**"
      ],
      "metadata": {
        "id": "q43H3SfgsqOh"
      }
    },
    {
      "cell_type": "code",
      "source": [
        "import numpy as np\n",
        "array = np.random.randint(1, 101, size =10)\n",
        "# SUM Operation using Numpy\n",
        "print(f\"array is: {array}\")\n",
        "print(\"sum of array is: \", np.sum(array))\n",
        " # MEAN Operation using Numpy\n",
        "print(\"mean of array is: \", np.mean(array))\n",
        "# MEDIAN Operation using Numpy\n",
        "print(\"median of array is: \", np.median(array))\n",
        "# STANDARD DEVIATION Operation using Numpy\n",
        "print(\"std deviation of array is: \",  np.std(array))\n",
        "# VARIANCE Operation using Numpy\n",
        "print(\"variance of array is: \", np.var(array))\n"
      ],
      "metadata": {
        "colab": {
          "base_uri": "https://localhost:8080/"
        },
        "id": "Q2x2K21FvaO8",
        "outputId": "424f92ae-3a54-497d-9b91-f07d5c769921"
      },
      "execution_count": 2,
      "outputs": [
        {
          "output_type": "stream",
          "name": "stdout",
          "text": [
            "array is: [17  5 15 73 83 74 25  1 49 76]\n",
            "sum of array is:  418\n",
            "mean of array is:  41.8\n",
            "median of array is:  37.0\n",
            "std deviation of array is:  30.925070735569868\n",
            "variance of array is:  956.3599999999999\n"
          ]
        }
      ]
    },
    {
      "cell_type": "markdown",
      "source": [
        "**Ascending and Descending of an array**"
      ],
      "metadata": {
        "id": "7Xiq64lAw7B6"
      }
    },
    {
      "cell_type": "code",
      "source": [
        "# Ascendng Array\n",
        "asc_array = np.sort(array)\n",
        "print(asc_array)\n",
        "# Descending Array\n",
        "desc_array = np.sort(array)[::-1]\n",
        "print(desc_array)"
      ],
      "metadata": {
        "colab": {
          "base_uri": "https://localhost:8080/"
        },
        "id": "uocVePMkxDPZ",
        "outputId": "8f5362c1-d848-43ac-f280-fbcffc789aef"
      },
      "execution_count": 4,
      "outputs": [
        {
          "output_type": "stream",
          "name": "stdout",
          "text": [
            "[ 1  5 15 17 25 49 73 74 76 83]\n",
            "[83 76 74 73 49 25 17 15  5  1]\n"
          ]
        }
      ]
    },
    {
      "cell_type": "markdown",
      "source": [
        "**Element-wise Operations**"
      ],
      "metadata": {
        "id": "aM8XvmTx2LdM"
      }
    },
    {
      "cell_type": "code",
      "source": [
        "array1 = np.random.randint(1,101, 15)\n",
        "print(f\"array1: {array1} \")\n",
        "array2 = np.random.randint(1, 101, 15)\n",
        "print(f\"array 2: {array2}\")\n",
        "addition =np.add(array1, array2)\n",
        "print(f\"addition is: {addition}\")\n",
        "subtract = array1-array2\n",
        "print(f\"after subtracting two arrays: {subtract}\")\n",
        "multiplication = array1*array2\n",
        "print(f\"after multiplication: {multiplication}\")\n",
        "Element_wise_division = array1/array2\n",
        "print(f\"element-wise-division: {Element_wise_division}\")"
      ],
      "metadata": {
        "colab": {
          "base_uri": "https://localhost:8080/"
        },
        "id": "EBY267Sc2Ksf",
        "outputId": "8582b6c3-493f-4591-d4a0-fabd8c518e10"
      },
      "execution_count": 6,
      "outputs": [
        {
          "output_type": "stream",
          "name": "stdout",
          "text": [
            "array1: [70 98 58 52 64 57 68 32 35 53 73 29 14 33 99] \n",
            "array 2: [23 55 64 33 68 14 41 21 48  7 48 58 71 97 80]\n",
            "addition is: [ 93 153 122  85 132  71 109  53  83  60 121  87  85 130 179]\n",
            "after subtracting two arrays: [ 47  43  -6  19  -4  43  27  11 -13  46  25 -29 -57 -64  19]\n",
            "after multiplication: [1610 5390 3712 1716 4352  798 2788  672 1680  371 3504 1682  994 3201\n",
            " 7920]\n",
            "element-wise-division: [3.04347826 1.78181818 0.90625    1.57575758 0.94117647 4.07142857\n",
            " 1.65853659 1.52380952 0.72916667 7.57142857 1.52083333 0.5\n",
            " 0.1971831  0.34020619 1.2375    ]\n"
          ]
        }
      ]
    },
    {
      "cell_type": "markdown",
      "source": [
        "**Scalar Multiplication**"
      ],
      "metadata": {
        "id": "neBFvSQP-tpr"
      }
    },
    {
      "cell_type": "code",
      "source": [
        "scalar_mul = array1*3\n",
        "print(scalar_mul)\n",
        "scalar_mul2 = array2*3\n",
        "print(scalar_mul2)"
      ],
      "metadata": {
        "colab": {
          "base_uri": "https://localhost:8080/"
        },
        "id": "1Au_r3-k-tU2",
        "outputId": "b2d66378-a8a7-4ad3-92e6-e8970a6ea46b"
      },
      "execution_count": 8,
      "outputs": [
        {
          "output_type": "stream",
          "name": "stdout",
          "text": [
            "[210 294 174 156 192 171 204  96 105 159 219  87  42  99 297]\n",
            "[ 69 165 192  99 204  42 123  63 144  21 144 174 213 291 240]\n"
          ]
        }
      ]
    },
    {
      "cell_type": "markdown",
      "source": [
        "**Trigonometric Operations**"
      ],
      "metadata": {
        "id": "k8TfnPgc_8Fw"
      }
    },
    {
      "cell_type": "code",
      "source": [
        "sin_value = np.sin(array)\n",
        "print(f\"sin values: {sin_value}\")\n",
        "cosine_val = np.cos(array)\n",
        "print(f\"cosine values: {cosine_val}\")\n",
        "tangent_val = np.tan(array)\n",
        "print(f\"tangent values: {tangent_val}\")"
      ],
      "metadata": {
        "colab": {
          "base_uri": "https://localhost:8080/"
        },
        "id": "hPDCEUabvobh",
        "outputId": "9d8d1e9a-7cb5-4567-efd4-8abd398f470b"
      },
      "execution_count": 9,
      "outputs": [
        {
          "output_type": "stream",
          "name": "stdout",
          "text": [
            "sin values: [-0.96139749 -0.95892427  0.65028784 -0.67677196  0.96836446 -0.98514626\n",
            " -0.13235175  0.84147098 -0.95375265  0.56610764]\n",
            "cosine values: [-0.27516334  0.28366219 -0.75968791 -0.73619272  0.24954012  0.17171734\n",
            "  0.99120281  0.54030231  0.30059254  0.82433133]\n",
            "tangent values: [ 3.49391565 -3.38051501 -0.8559934   0.9192864   3.88059631 -5.73702254\n",
            " -0.13352641  1.55740772 -3.17290855  0.68674769]\n"
          ]
        }
      ]
    }
  ]
}